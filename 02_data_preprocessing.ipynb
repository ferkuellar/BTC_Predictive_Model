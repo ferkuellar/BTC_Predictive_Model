{
 "cells": [
  {
   "cell_type": "code",
   "execution_count": 60,
   "id": "dc79feae-15ab-4b30-b084-69113511d99a",
   "metadata": {},
   "outputs": [],
   "source": [
    "import pandas as pd\n",
    "import numpy as np\n",
    "import matplotlib.pyplot as plt"
   ]
  },
  {
   "cell_type": "code",
   "execution_count": 62,
   "id": "e7b6db26-32c7-4cb5-9782-638e60eab8db",
   "metadata": {},
   "outputs": [
    {
     "data": {
      "text/html": [
       "<div>\n",
       "<style scoped>\n",
       "    .dataframe tbody tr th:only-of-type {\n",
       "        vertical-align: middle;\n",
       "    }\n",
       "\n",
       "    .dataframe tbody tr th {\n",
       "        vertical-align: top;\n",
       "    }\n",
       "\n",
       "    .dataframe thead th {\n",
       "        text-align: right;\n",
       "    }\n",
       "</style>\n",
       "<table border=\"1\" class=\"dataframe\">\n",
       "  <thead>\n",
       "    <tr style=\"text-align: right;\">\n",
       "      <th></th>\n",
       "      <th>timestamp</th>\n",
       "      <th>open</th>\n",
       "      <th>high</th>\n",
       "      <th>low</th>\n",
       "      <th>close</th>\n",
       "      <th>volume</th>\n",
       "    </tr>\n",
       "  </thead>\n",
       "  <tbody>\n",
       "    <tr>\n",
       "      <th>0</th>\n",
       "      <td>2024-01-01 06:00:00</td>\n",
       "      <td>42234.01</td>\n",
       "      <td>42277.30</td>\n",
       "      <td>42208.68</td>\n",
       "      <td>42277.29</td>\n",
       "      <td>69.10295</td>\n",
       "    </tr>\n",
       "    <tr>\n",
       "      <th>1</th>\n",
       "      <td>2024-01-01 06:05:00</td>\n",
       "      <td>42277.30</td>\n",
       "      <td>42301.98</td>\n",
       "      <td>42275.00</td>\n",
       "      <td>42290.19</td>\n",
       "      <td>72.05076</td>\n",
       "    </tr>\n",
       "    <tr>\n",
       "      <th>2</th>\n",
       "      <td>2024-01-01 06:10:00</td>\n",
       "      <td>42290.19</td>\n",
       "      <td>42290.19</td>\n",
       "      <td>42262.00</td>\n",
       "      <td>42276.01</td>\n",
       "      <td>50.05483</td>\n",
       "    </tr>\n",
       "    <tr>\n",
       "      <th>3</th>\n",
       "      <td>2024-01-01 06:15:00</td>\n",
       "      <td>42276.00</td>\n",
       "      <td>42344.76</td>\n",
       "      <td>42270.22</td>\n",
       "      <td>42342.01</td>\n",
       "      <td>50.25578</td>\n",
       "    </tr>\n",
       "    <tr>\n",
       "      <th>4</th>\n",
       "      <td>2024-01-01 06:20:00</td>\n",
       "      <td>42342.01</td>\n",
       "      <td>42342.01</td>\n",
       "      <td>42281.10</td>\n",
       "      <td>42311.16</td>\n",
       "      <td>37.33549</td>\n",
       "    </tr>\n",
       "  </tbody>\n",
       "</table>\n",
       "</div>"
      ],
      "text/plain": [
       "             timestamp      open      high       low     close    volume\n",
       "0  2024-01-01 06:00:00  42234.01  42277.30  42208.68  42277.29  69.10295\n",
       "1  2024-01-01 06:05:00  42277.30  42301.98  42275.00  42290.19  72.05076\n",
       "2  2024-01-01 06:10:00  42290.19  42290.19  42262.00  42276.01  50.05483\n",
       "3  2024-01-01 06:15:00  42276.00  42344.76  42270.22  42342.01  50.25578\n",
       "4  2024-01-01 06:20:00  42342.01  42342.01  42281.10  42311.16  37.33549"
      ]
     },
     "execution_count": 62,
     "metadata": {},
     "output_type": "execute_result"
    }
   ],
   "source": [
    "# Cargamos el dataset descargado de la colección de datos (output de 01_data_collection)\n",
    "file_path = 'data/BTC_5m_ohlcv.csv'\n",
    "df = pd.read_csv(file_path)\n",
    "\n",
    "# Vista previa para verificar\n",
    "df.head()"
   ]
  },
  {
   "cell_type": "code",
   "execution_count": 64,
   "id": "bdb2d6cc-00f4-41d6-a1c9-7891fc4a0630",
   "metadata": {},
   "outputs": [
    {
     "name": "stdout",
     "output_type": "stream",
     "text": [
      "Columnas actuales: ['timestamp', 'open', 'high', 'low', 'close', 'volume']\n",
      "Valores nulos por columna:\n",
      "timestamp    0\n",
      "open         0\n",
      "high         0\n",
      "low          0\n",
      "close        0\n",
      "volume       0\n",
      "dtype: int64\n"
     ]
    }
   ],
   "source": [
    "# Revisamos las columnas disponibles\n",
    "print(\"Columnas actuales:\", df.columns.tolist())\n",
    "\n",
    "# Verificamos si existen valores nulos en las columnas básicas\n",
    "print(\"Valores nulos por columna:\")\n",
    "print(df.isnull().sum())\n"
   ]
  },
  {
   "cell_type": "code",
   "execution_count": 66,
   "id": "dd169a68-d84c-4c3d-b296-018f707d8d31",
   "metadata": {},
   "outputs": [
    {
     "name": "stdout",
     "output_type": "stream",
     "text": [
      "Dataset limpio. Total de registros: 128120\n"
     ]
    }
   ],
   "source": [
    "# Eliminamos duplicados si existen\n",
    "df.drop_duplicates(inplace=True)\n",
    "\n",
    "# Eliminamos filas con valores nulos en columnas clave\n",
    "df.dropna(subset=['timestamp', 'open', 'high', 'low', 'close', 'volume'], inplace=True)\n",
    "\n",
    "# Convertimos timestamp a datetime si no se ha hecho\n",
    "df['timestamp'] = pd.to_datetime(df['timestamp'])\n",
    "\n",
    "# Revisamos que el volumen no tenga valores negativos o cero (pueden ser errores)\n",
    "df = df[df['volume'] > 0]\n",
    "\n",
    "# Confirmamos la limpieza\n",
    "print(f\"Dataset limpio. Total de registros: {len(df)}\")\n"
   ]
  },
  {
   "cell_type": "code",
   "execution_count": 68,
   "id": "e70c9cf5-68e4-4473-a3d6-b4f261b743ab",
   "metadata": {},
   "outputs": [],
   "source": [
    "# Retorno logarítmico\n",
    "df['log_return'] = np.log(df['close'] / df['close'].shift(1))\n",
    "\n",
    "# Cambio porcentual\n",
    "df['pct_change'] = df['close'].pct_change()\n",
    "\n",
    "# Rellenar posibles nulos iniciales\n",
    "df.fillna(0, inplace=True)\n"
   ]
  },
  {
   "cell_type": "code",
   "execution_count": 70,
   "id": "393b1450-22b1-4ad2-ac75-b5aabdc9aaca",
   "metadata": {},
   "outputs": [
    {
     "name": "stdout",
     "output_type": "stream",
     "text": [
      "Columnas tras agregar bandas de Bollinger y bb_width:\n",
      "['timestamp', 'open', 'high', 'low', 'close', 'volume', 'log_return', 'pct_change', 'sma_20', 'stddev_20', 'bb_upper', 'bb_lower', 'bb_width']\n"
     ]
    }
   ],
   "source": [
    "# Revisamos si las bandas de Bollinger existen y calculamos bb_width\n",
    "if 'bb_upper' not in df.columns or 'bb_lower' not in df.columns:\n",
    "    # Si no existen, calculamos las bandas de Bollinger básicas\n",
    "    window = 20\n",
    "    df['sma_20'] = df['close'].rolling(window=window).mean()\n",
    "    df['stddev_20'] = df['close'].rolling(window=window).std()\n",
    "\n",
    "    df['bb_upper'] = df['sma_20'] + (df['stddev_20'] * 2)\n",
    "    df['bb_lower'] = df['sma_20'] - (df['stddev_20'] * 2)\n",
    "\n",
    "# Ahora calculamos bb_width\n",
    "if 'bb_width' not in df.columns:\n",
    "    df['bb_width'] = df['bb_upper'] - df['bb_lower']\n",
    "\n",
    "# Eliminamos valores nulos generados por rolling windows\n",
    "df.dropna(inplace=True)\n",
    "\n",
    "# Confirmamos las nuevas columnas\n",
    "print(\"Columnas tras agregar bandas de Bollinger y bb_width:\")\n",
    "print(df.columns.tolist())\n"
   ]
  },
  {
   "cell_type": "code",
   "execution_count": 72,
   "id": "9e634c29-55ed-4694-8bb1-cbbcb4255055",
   "metadata": {},
   "outputs": [
    {
     "data": {
      "image/png": "[encoded data removed]",
      "text/plain": [
       "<Figure size 1000x400 with 1 Axes>"
      ]
     },
     "metadata": {},
     "output_type": "display_data"
    },
    {
     "name": "stdout",
     "output_type": "stream",
     "text": [
      "Datos filtrados de volumen extremo. Total de registros: 126820\n"
     ]
    }
   ],
   "source": [
    "# Analizamos el volumen para detectar valores atípicos\n",
    "plt.figure(figsize=(10, 4))\n",
    "plt.hist(df['volume'], bins=50)\n",
    "plt.title('Distribución del Volumen')\n",
    "plt.xlabel('Volumen')\n",
    "plt.ylabel('Frecuencia')\n",
    "plt.show()\n",
    "\n",
    "# Opcional: podemos eliminar outliers extremos\n",
    "percentile_99 = df['volume'].quantile(0.99)\n",
    "df = df[df['volume'] <= percentile_99]\n",
    "\n",
    "print(f\"Datos filtrados de volumen extremo. Total de registros: {len(df)}\")\n"
   ]
  },
  {
   "cell_type": "code",
   "execution_count": 74,
   "id": "3dc54ab9-7bc8-4126-8b03-5b9e60b3fc91",
   "metadata": {},
   "outputs": [
    {
     "name": "stdout",
     "output_type": "stream",
     "text": [
      "✅ Dataset preprocesado guardado en data/BTC_5m_preprocessed.csv\n"
     ]
    },
    {
     "data": {
      "text/html": [
       "<div>\n",
       "<style scoped>\n",
       "    .dataframe tbody tr th:only-of-type {\n",
       "        vertical-align: middle;\n",
       "    }\n",
       "\n",
       "    .dataframe tbody tr th {\n",
       "        vertical-align: top;\n",
       "    }\n",
       "\n",
       "    .dataframe thead th {\n",
       "        text-align: right;\n",
       "    }\n",
       "</style>\n",
       "<table border=\"1\" class=\"dataframe\">\n",
       "  <thead>\n",
       "    <tr style=\"text-align: right;\">\n",
       "      <th></th>\n",
       "      <th>timestamp</th>\n",
       "      <th>open</th>\n",
       "      <th>high</th>\n",
       "      <th>low</th>\n",
       "      <th>close</th>\n",
       "      <th>volume</th>\n",
       "      <th>log_return</th>\n",
       "      <th>pct_change</th>\n",
       "      <th>sma_20</th>\n",
       "      <th>stddev_20</th>\n",
       "      <th>bb_upper</th>\n",
       "      <th>bb_lower</th>\n",
       "      <th>bb_width</th>\n",
       "    </tr>\n",
       "  </thead>\n",
       "  <tbody>\n",
       "    <tr>\n",
       "      <th>128115</th>\n",
       "      <td>2025-03-21 02:15:00</td>\n",
       "      <td>84653.06</td>\n",
       "      <td>84653.06</td>\n",
       "      <td>84566.39</td>\n",
       "      <td>84574.53</td>\n",
       "      <td>32.83500</td>\n",
       "      <td>-0.000928</td>\n",
       "      <td>-0.000928</td>\n",
       "      <td>84575.3220</td>\n",
       "      <td>112.292863</td>\n",
       "      <td>84799.907727</td>\n",
       "      <td>84350.736273</td>\n",
       "      <td>449.171454</td>\n",
       "    </tr>\n",
       "    <tr>\n",
       "      <th>128116</th>\n",
       "      <td>2025-03-21 02:20:00</td>\n",
       "      <td>84574.53</td>\n",
       "      <td>84579.32</td>\n",
       "      <td>84520.67</td>\n",
       "      <td>84547.56</td>\n",
       "      <td>16.44097</td>\n",
       "      <td>-0.000319</td>\n",
       "      <td>-0.000319</td>\n",
       "      <td>84580.9605</td>\n",
       "      <td>107.598104</td>\n",
       "      <td>84796.156708</td>\n",
       "      <td>84365.764292</td>\n",
       "      <td>430.392417</td>\n",
       "    </tr>\n",
       "    <tr>\n",
       "      <th>128117</th>\n",
       "      <td>2025-03-21 02:25:00</td>\n",
       "      <td>84547.57</td>\n",
       "      <td>84666.61</td>\n",
       "      <td>84547.56</td>\n",
       "      <td>84630.43</td>\n",
       "      <td>69.40393</td>\n",
       "      <td>0.000980</td>\n",
       "      <td>0.000980</td>\n",
       "      <td>84587.4830</td>\n",
       "      <td>106.377733</td>\n",
       "      <td>84800.238465</td>\n",
       "      <td>84374.727535</td>\n",
       "      <td>425.510931</td>\n",
       "    </tr>\n",
       "    <tr>\n",
       "      <th>128118</th>\n",
       "      <td>2025-03-21 02:30:00</td>\n",
       "      <td>84630.44</td>\n",
       "      <td>84644.00</td>\n",
       "      <td>84572.54</td>\n",
       "      <td>84580.06</td>\n",
       "      <td>26.96325</td>\n",
       "      <td>-0.000595</td>\n",
       "      <td>-0.000595</td>\n",
       "      <td>84589.7335</td>\n",
       "      <td>105.683939</td>\n",
       "      <td>84801.101378</td>\n",
       "      <td>84378.365622</td>\n",
       "      <td>422.735756</td>\n",
       "    </tr>\n",
       "    <tr>\n",
       "      <th>128119</th>\n",
       "      <td>2025-03-21 02:35:00</td>\n",
       "      <td>84580.06</td>\n",
       "      <td>84629.99</td>\n",
       "      <td>84580.06</td>\n",
       "      <td>84601.62</td>\n",
       "      <td>7.09480</td>\n",
       "      <td>0.000255</td>\n",
       "      <td>0.000255</td>\n",
       "      <td>84594.4610</td>\n",
       "      <td>103.891100</td>\n",
       "      <td>84802.243201</td>\n",
       "      <td>84386.678799</td>\n",
       "      <td>415.564402</td>\n",
       "    </tr>\n",
       "  </tbody>\n",
       "</table>\n",
       "</div>"
      ],
      "text/plain": [
       "                 timestamp      open      high       low     close    volume  \\\n",
       "128115 2025-03-21 02:15:00  84653.06  84653.06  84566.39  84574.53  32.83500   \n",
       "128116 2025-03-21 02:20:00  84574.53  84579.32  84520.67  84547.56  16.44097   \n",
       "128117 2025-03-21 02:25:00  84547.57  84666.61  84547.56  84630.43  69.40393   \n",
       "128118 2025-03-21 02:30:00  84630.44  84644.00  84572.54  84580.06  26.96325   \n",
       "128119 2025-03-21 02:35:00  84580.06  84629.99  84580.06  84601.62   7.09480   \n",
       "\n",
       "        log_return  pct_change      sma_20   stddev_20      bb_upper  \\\n",
       "128115   -0.000928   -0.000928  84575.3220  112.292863  84799.907727   \n",
       "128116   -0.000319   -0.000319  84580.9605  107.598104  84796.156708   \n",
       "128117    0.000980    0.000980  84587.4830  106.377733  84800.238465   \n",
       "128118   -0.000595   -0.000595  84589.7335  105.683939  84801.101378   \n",
       "128119    0.000255    0.000255  84594.4610  103.891100  84802.243201   \n",
       "\n",
       "            bb_lower    bb_width  \n",
       "128115  84350.736273  449.171454  \n",
       "128116  84365.764292  430.392417  \n",
       "128117  84374.727535  425.510931  \n",
       "128118  84378.365622  422.735756  \n",
       "128119  84386.678799  415.564402  "
      ]
     },
     "execution_count": 74,
     "metadata": {},
     "output_type": "execute_result"
    }
   ],
   "source": [
    "# Guardamos el dataset listo para feature engineering o modelado\n",
    "output_file = 'data/BTC_5m_preprocessed.csv'\n",
    "df.to_csv(output_file, index=False)\n",
    "\n",
    "print(f\"✅ Dataset preprocesado guardado en {output_file}\")\n",
    "df.tail()\n"
   ]
  },
  {
   "cell_type": "code",
   "execution_count": null,
   "id": "746fdb28-3327-4bae-a1a9-5b4556b9c412",
   "metadata": {},
   "outputs": [],
   "source": []
  }
 ],
 "metadata": {
  "kernelspec": {
   "display_name": "Python 3 (ipykernel)",
   "language": "python",
   "name": "python3"
  },
  "language_info": {
   "codemirror_mode": {
    "name": "ipython",
    "version": 3
   },
   "file_extension": ".py",
   "mimetype": "text/x-python",
   "name": "python",
   "nbconvert_exporter": "python",
   "pygments_lexer": "ipython3",
   "version": "3.11.5"
  }
 },
 "nbformat": 4,
 "nbformat_minor": 5
}
