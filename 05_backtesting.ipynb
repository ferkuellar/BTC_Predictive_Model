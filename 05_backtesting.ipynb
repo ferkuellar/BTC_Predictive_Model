{
 "cells": [
  {
   "cell_type": "code",
   "execution_count": 28,
   "id": "8535c110-d649-486e-bc8d-b5f59c60e512",
   "metadata": {},
   "outputs": [],
   "source": [
    "import pandas as pd\n",
    "import numpy as np\n",
    "import matplotlib.pyplot as plt\n",
    "import joblib\n",
    "from tensorflow.keras.models import load_model\n",
    "from sklearn.preprocessing import MinMaxScaler\n",
    "from sklearn.metrics import accuracy_score, precision_score, recall_score, f1_score, confusion_matrix\n"
   ]
  },
  {
   "cell_type": "code",
   "execution_count": 29,
   "id": "06ad7257-d8d0-4ce3-9dc1-728c9e5f3052",
   "metadata": {},
   "outputs": [],
   "source": [
    "# Cargar dataset de features\n",
    "df = pd.read_csv('data/BTC_5m_features.csv')\n",
    "\n",
    "# Definir las features utilizadas\n",
    "features = [\n",
    "    'log_return', 'pct_change', 'rsi', 'ema_12', 'ema_26',\n",
    "    'macd', 'macd_signal', 'macd_histogram', 'bb_upper', 'bb_lower', 'bb_width',\n",
    "    'returns_mean_5', 'returns_std_5', 'returns_mean_20', 'returns_std_20',\n",
    "    'ema_diff', 'rsi_macd_ratio', 'bb_position', 'rsi_overbought', 'rsi_oversold',\n",
    "    'macd_cross', 'volatility', 'adx', 'atr', 'vol_ratio'\n",
    "]\n",
    "\n",
    "# Cargar modelos\n",
    "model_xgb = joblib.load('models/xgb_btc_model.pkl')\n",
    "model_lstm = load_model('models/lstm_btc_model.keras')  # ✅ Actualizado al nuevo formato\n"
   ]
  },
  {
   "cell_type": "code",
   "execution_count": 30,
   "id": "9613fc9d-65bc-4b62-9fbb-c5e36d7c3ccd",
   "metadata": {},
   "outputs": [],
   "source": [
    "train_size = 0.8\n",
    "split_idx = int(len(df) * train_size)\n",
    "\n",
    "X_test_xgb = df[features].iloc[split_idx:]\n",
    "df_test = df.iloc[split_idx:].copy()\n",
    "\n",
    "# Escalado para LSTM\n",
    "scaled_data = MinMaxScaler(feature_range=(0, 1)).fit_transform(df[['close']].values)\n",
    "sequence_length = 60\n",
    "X_test_lstm = []\n",
    "\n",
    "for i in range(split_idx + sequence_length, len(scaled_data)):\n",
    "    X_test_lstm.append(scaled_data[i-sequence_length:i, 0])\n",
    "\n",
    "X_test_lstm = np.array(X_test_lstm).reshape((-1, sequence_length, 1))\n",
    "df_test = df_test.iloc[sequence_length:]\n"
   ]
  },
  {
   "cell_type": "code",
   "execution_count": 31,
   "id": "212c1dfa-c67c-4ff4-92d2-06382ce4b6d0",
   "metadata": {},
   "outputs": [
    {
     "name": "stdout",
     "output_type": "stream",
     "text": [
      "\u001b[1m791/791\u001b[0m \u001b[32m━━━━━━━━━━━━━━━━━━━━\u001b[0m\u001b[37m\u001b[0m \u001b[1m3s\u001b[0m 4ms/step\n"
     ]
    },
    {
     "data": {
      "text/html": [
       "<div>\n",
       "<style scoped>\n",
       "    .dataframe tbody tr th:only-of-type {\n",
       "        vertical-align: middle;\n",
       "    }\n",
       "\n",
       "    .dataframe tbody tr th {\n",
       "        vertical-align: top;\n",
       "    }\n",
       "\n",
       "    .dataframe thead th {\n",
       "        text-align: right;\n",
       "    }\n",
       "</style>\n",
       "<table border=\"1\" class=\"dataframe\">\n",
       "  <thead>\n",
       "    <tr style=\"text-align: right;\">\n",
       "      <th></th>\n",
       "      <th>timestamp</th>\n",
       "      <th>close</th>\n",
       "      <th>prediction</th>\n",
       "    </tr>\n",
       "  </thead>\n",
       "  <tbody>\n",
       "    <tr>\n",
       "      <th>101495</th>\n",
       "      <td>2024-12-22 14:25:00</td>\n",
       "      <td>95848.01</td>\n",
       "      <td>0</td>\n",
       "    </tr>\n",
       "    <tr>\n",
       "      <th>101496</th>\n",
       "      <td>2024-12-22 14:30:00</td>\n",
       "      <td>95704.02</td>\n",
       "      <td>0</td>\n",
       "    </tr>\n",
       "    <tr>\n",
       "      <th>101497</th>\n",
       "      <td>2024-12-22 14:35:00</td>\n",
       "      <td>95755.09</td>\n",
       "      <td>0</td>\n",
       "    </tr>\n",
       "    <tr>\n",
       "      <th>101498</th>\n",
       "      <td>2024-12-22 14:40:00</td>\n",
       "      <td>95822.81</td>\n",
       "      <td>0</td>\n",
       "    </tr>\n",
       "    <tr>\n",
       "      <th>101499</th>\n",
       "      <td>2024-12-22 14:45:00</td>\n",
       "      <td>96026.03</td>\n",
       "      <td>0</td>\n",
       "    </tr>\n",
       "  </tbody>\n",
       "</table>\n",
       "</div>"
      ],
      "text/plain": [
       "                  timestamp     close  prediction\n",
       "101495  2024-12-22 14:25:00  95848.01           0\n",
       "101496  2024-12-22 14:30:00  95704.02           0\n",
       "101497  2024-12-22 14:35:00  95755.09           0\n",
       "101498  2024-12-22 14:40:00  95822.81           0\n",
       "101499  2024-12-22 14:45:00  96026.03           0"
      ]
     },
     "execution_count": 31,
     "metadata": {},
     "output_type": "execute_result"
    }
   ],
   "source": [
    "threshold = 0.7  # Umbral de confianza\n",
    "\n",
    "# Probabilidades de los modelos\n",
    "proba_xgb = model_xgb.predict_proba(X_test_xgb.iloc[sequence_length:])[:, 1]\n",
    "proba_lstm = model_lstm.predict(X_test_lstm).flatten()\n",
    "\n",
    "# Ensemble: promedio de probabilidades\n",
    "ensemble_proba = (proba_xgb + proba_lstm) / 2\n",
    "\n",
    "# Predicción final\n",
    "df_test['prediction'] = (ensemble_proba > threshold).astype(int)\n",
    "\n",
    "# Revisión rápida\n",
    "df_test[['timestamp', 'close', 'prediction']].head()\n"
   ]
  },
  {
   "cell_type": "code",
   "execution_count": 32,
   "id": "df283266-f56c-4f7b-8342-41d330633862",
   "metadata": {},
   "outputs": [
    {
     "name": "stdout",
     "output_type": "stream",
     "text": [
      "📊 Evaluación del Ensemble XGBoost + LSTM:\n",
      "✅ Accuracy:  0.50\n",
      "✅ Precision: 0.00\n",
      "✅ Recall:    0.00\n",
      "✅ F1 Score:  0.00\n",
      "\n",
      "Matriz de Confusión:\n",
      "[[12644     0]\n",
      " [12655     0]]\n"
     ]
    },
    {
     "name": "stderr",
     "output_type": "stream",
     "text": [
      "/opt/anaconda3/envs/tf2.11/lib/python3.10/site-packages/sklearn/metrics/_classification.py:1565: UndefinedMetricWarning: Precision is ill-defined and being set to 0.0 due to no predicted samples. Use `zero_division` parameter to control this behavior.\n",
      "  _warn_prf(average, modifier, f\"{metric.capitalize()} is\", len(result))\n"
     ]
    }
   ],
   "source": [
    "# Generar el target si no existe\n",
    "if 'target' not in df.columns:\n",
    "    df['target'] = (df['close'].shift(-1) > df['close']).astype(int)\n",
    "\n",
    "# Variables reales y predichas\n",
    "y_test_true = df['target'].iloc[split_idx + sequence_length:]\n",
    "y_test_pred = df_test['prediction']\n",
    "\n",
    "# Métricas de evaluación\n",
    "accuracy = accuracy_score(y_test_true, y_test_pred)\n",
    "precision = precision_score(y_test_true, y_test_pred)\n",
    "recall = recall_score(y_test_true, y_test_pred)\n",
    "f1 = f1_score(y_test_true, y_test_pred)\n",
    "cm = confusion_matrix(y_test_true, y_test_pred)\n",
    "\n",
    "print(\"📊 Evaluación del Ensemble XGBoost + LSTM:\")\n",
    "print(f\"✅ Accuracy:  {accuracy:.2f}\")\n",
    "print(f\"✅ Precision: {precision:.2f}\")\n",
    "print(f\"✅ Recall:    {recall:.2f}\")\n",
    "print(f\"✅ F1 Score:  {f1:.2f}\")\n",
    "print(\"\\nMatriz de Confusión:\")\n",
    "print(cm)\n"
   ]
  },
  {
   "cell_type": "code",
   "execution_count": 33,
   "id": "41dd71e2-56f1-4de5-8f3f-2a1a918ae941",
   "metadata": {},
   "outputs": [],
   "source": [
    "# Parámetros de la simulación\n",
    "capital_inicial = 10000\n",
    "capital = capital_inicial\n",
    "btc_holdings = 0\n",
    "trading_fee = 0.001\n",
    "\n",
    "capital_history = []\n",
    "btc_holdings_history = []\n",
    "actions = []\n",
    "\n",
    "stop_trading = False\n",
    "max_loss_percentage = 5\n",
    "\n",
    "# Backtest loop\n",
    "for idx, row in df_test.iterrows():\n",
    "    signal = row['prediction']\n",
    "    price = row['close']\n",
    "\n",
    "    stop_loss = price * (1 - 1.5 / 100)\n",
    "    take_profit = price * (1 + 3.0 / 100)\n",
    "\n",
    "    if stop_trading:\n",
    "        actions.append('NO TRADE - STOP RISK')\n",
    "        capital_history.append(capital + btc_holdings * price)\n",
    "        btc_holdings_history.append(btc_holdings)\n",
    "        continue\n",
    "\n",
    "    # Ejecutar BUY\n",
    "    if signal == 1 and capital > 0:\n",
    "        btc_bought = (capital * (1 - trading_fee)) / price\n",
    "        btc_holdings += btc_bought\n",
    "        capital = 0\n",
    "        actions.append('BUY')\n",
    "\n",
    "    # Ejecutar SELL\n",
    "    elif signal == 0 and btc_holdings > 0:\n",
    "        capital = btc_holdings * price * (1 - trading_fee)\n",
    "        btc_holdings = 0\n",
    "        actions.append('SELL')\n",
    "\n",
    "    else:\n",
    "        actions.append('HOLD')\n",
    "\n",
    "    # Evaluación de pérdidas y STOP\n",
    "    unrealized_capital = btc_holdings * price if btc_holdings > 0 else capital\n",
    "    daily_losses = ((unrealized_capital - capital_inicial) / capital_inicial) * 100\n",
    "\n",
    "    if daily_losses <= -max_loss_percentage:\n",
    "        stop_trading = True\n",
    "        print(f\"🚨 STOP TRADING activado: pérdida de {daily_losses:.2f}%\")\n",
    "\n",
    "    total_capital = capital + btc_holdings * price\n",
    "    capital_history.append(total_capital)\n",
    "    btc_holdings_history.append(btc_holdings)\n"
   ]
  },
  {
   "cell_type": "code",
   "execution_count": 34,
   "id": "4219fec2-a5fd-4d94-a95b-d5103b1eb4c1",
   "metadata": {},
   "outputs": [],
   "source": [
    "df_test['capital'] = capital_history\n",
    "df_test['btc_holdings'] = btc_holdings_history\n",
    "df_test['action'] = actions\n"
   ]
  },
  {
   "cell_type": "code",
   "execution_count": 35,
   "id": "952370c1-958a-4078-a1a6-dfcad12c470b",
   "metadata": {},
   "outputs": [
    {
     "name": "stdout",
     "output_type": "stream",
     "text": [
      "✅ Capital Inicial: $10,000.00\n",
      "✅ Capital Final: $10,000.00\n",
      "✅ ROI Estrategia: 0.00%\n"
     ]
    }
   ],
   "source": [
    "final_capital = capital_history[-1]\n",
    "roi = ((final_capital - capital_inicial) / capital_inicial) * 100\n",
    "\n",
    "print(f\"✅ Capital Inicial: ${capital_inicial:,.2f}\")\n",
    "print(f\"✅ Capital Final: ${final_capital:,.2f}\")\n",
    "print(f\"✅ ROI Estrategia: {roi:.2f}%\")\n"
   ]
  },
  {
   "cell_type": "code",
   "execution_count": 36,
   "id": "30ad5c79-97d3-423f-a6d0-07076c76d419",
   "metadata": {},
   "outputs": [
    {
     "data": {
      "image/png": "[encoded data removed]",
      "text/plain": [
       "<Figure size 1400x600 with 1 Axes>"
      ]
     },
     "metadata": {},
     "output_type": "display_data"
    }
   ],
   "source": [
    "df_test['timestamp'] = pd.to_datetime(df_test['timestamp'])\n",
    "\n",
    "plt.figure(figsize=(14, 6))\n",
    "plt.plot(df_test['timestamp'], capital_history, label='Capital Estrategia')\n",
    "plt.title('Evolución del Capital - Ensemble XGBoost + LSTM')\n",
    "plt.xlabel('Fecha')\n",
    "plt.ylabel('Capital (USDT)')\n",
    "plt.legend()\n",
    "plt.grid(True)\n",
    "plt.show()\n"
   ]
  },
  {
   "cell_type": "code",
   "execution_count": 37,
   "id": "6ed90c38-2fe1-4650-a68e-9a7adb83503c",
   "metadata": {},
   "outputs": [
    {
     "name": "stdout",
     "output_type": "stream",
     "text": [
      "✅ Resultados guardados en 'data/BTC_backtest_ensemble_results.csv'\n"
     ]
    }
   ],
   "source": [
    "df_test.to_csv('data/BTC_backtest_ensemble_results.csv', index=False)\n",
    "print(\"✅ Resultados guardados en 'data/BTC_backtest_ensemble_results.csv'\")\n"
   ]
  },
  {
   "cell_type": "code",
   "execution_count": null,
   "id": "6de1e268-7173-4af7-892f-8e940d466905",
   "metadata": {},
   "outputs": [],
   "source": []
  }
 ],
 "metadata": {
  "kernelspec": {
   "display_name": "Python 3 (ipykernel)",
   "language": "python",
   "name": "python3"
  },
  "language_info": {
   "codemirror_mode": {
    "name": "ipython",
    "version": 3
   },
   "file_extension": ".py",
   "mimetype": "text/x-python",
   "name": "python",
   "nbconvert_exporter": "python",
   "pygments_lexer": "ipython3",
   "version": "3.10.13"
  }
 },
 "nbformat": 4,
 "nbformat_minor": 5
}
